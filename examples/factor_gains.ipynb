{
 "cells": [
  {
   "cell_type": "code",
   "execution_count": 1,
   "metadata": {},
   "outputs": [],
   "source": [
    "import numpy as np\n",
    "import pymc3 as pm\n",
    "import bayesalpha as ba\n",
    "import pandas as pd\n",
    "import seaborn as sns\n",
    "import matplotlib.pyplot as plt"
   ]
  },
  {
   "cell_type": "code",
   "execution_count": 21,
   "metadata": {},
   "outputs": [],
   "source": [
    "n_time = 600\n",
    "n_algos = 10\n",
    "\n",
    "returns = np.random.randn(n_time, n_algos) / 1e3\n",
    "signal = (np.random.randn(n_time, 2) > 0) * 2 - 1"
   ]
  },
  {
   "cell_type": "code",
   "execution_count": 22,
   "metadata": {},
   "outputs": [
    {
     "name": "stderr",
     "output_type": "stream",
     "text": [
      "Auto-assigning NUTS sampler...\n",
      "Initializing NUTS using jitter+adapt_diag...\n",
      "Multiprocess sampling (2 chains in 2 jobs)\n",
      "NUTS: [gains_factor_algo_raw, gains_factor_algo_sd_log__, gains_time_raw, gains_time_sd_raw_log__, gains_time_sd_sd_log__, gains_time_alpha_log__, author_is, gains_raw, gains_mu, gains_sd_log__, log_vlt_time_raw, log_vlt_time_sd_log__, log_vlt_time_alpha_log__, log_vlt_mu]\n",
      "100%|██████████| 1000/1000 [01:00<00:00, 16.54it/s]\n",
      "The estimated number of effective samples is smaller than 200 for some parameters.\n"
     ]
    }
   ],
   "source": [
    "returns = pd.DataFrame(returns)\n",
    "# returns.colums = ['algo1', 'alg']....\n",
    "returns.index = pd.DatetimeIndex(\n",
    "    pd.date_range('2018-01-01', periods=n_time, freq='1B'))\n",
    "signal = pd.DataFrame(signal)\n",
    "signal.columns = ['VIX', 'HMM']\n",
    "signal.index = returns.index\n",
    "\n",
    "fit = ba.fit_population(returns, gains_factors=signal)"
   ]
  },
  {
   "cell_type": "code",
   "execution_count": 29,
   "metadata": {},
   "outputs": [
    {
     "name": "stderr",
     "output_type": "stream",
     "text": [
      "/Users/adrianseyboldt/anaconda3/lib/python3.6/site-packages/matplotlib/axes/_axes.py:6462: UserWarning: The 'normed' kwarg is deprecated, and has been replaced by the 'density' kwarg.\n",
      "  warnings.warn(\"The 'normed' kwarg is deprecated, and has been \"\n"
     ]
    },
    {
     "data": {
      "text/plain": [
       "<matplotlib.axes._subplots.AxesSubplot at 0x125eb8e10>"
      ]
     },
     "execution_count": 29,
     "metadata": {},
     "output_type": "execute_result"
    },
    {
     "data": {
      "image/png": "[encoded data removed]",
      "text/plain": [
       "<Figure size 432x288 with 1 Axes>"
      ]
     },
     "metadata": {},
     "output_type": "display_data"
    }
   ],
   "source": [
    "# How predictive is the signal of local non-annualized sharpe ratio?\n",
    "sns.distplot(fit\n",
    "    .trace\n",
    "    .gains_factor_algo\n",
    "    .sel(gains_factor='VIX', algo=2)\n",
    "    .values.ravel())"
   ]
  },
  {
   "cell_type": "code",
   "execution_count": 24,
   "metadata": {},
   "outputs": [
    {
     "data": {
      "text/html": [
       "<div>\n",
       "<style scoped>\n",
       "    .dataframe tbody tr th:only-of-type {\n",
       "        vertical-align: middle;\n",
       "    }\n",
       "\n",
       "    .dataframe tbody tr th {\n",
       "        vertical-align: top;\n",
       "    }\n",
       "\n",
       "    .dataframe thead th {\n",
       "        text-align: right;\n",
       "    }\n",
       "</style>\n",
       "<table border=\"1\" class=\"dataframe\">\n",
       "  <thead>\n",
       "    <tr style=\"text-align: right;\">\n",
       "      <th></th>\n",
       "      <th></th>\n",
       "      <th></th>\n",
       "      <th></th>\n",
       "      <th>gains_factor_algo</th>\n",
       "    </tr>\n",
       "    <tr>\n",
       "      <th>chain</th>\n",
       "      <th>sample</th>\n",
       "      <th>gains_factor</th>\n",
       "      <th>algo</th>\n",
       "      <th></th>\n",
       "    </tr>\n",
       "  </thead>\n",
       "  <tbody>\n",
       "    <tr>\n",
       "      <th rowspan=\"5\" valign=\"top\">0</th>\n",
       "      <th rowspan=\"5\" valign=\"top\">0</th>\n",
       "      <th rowspan=\"5\" valign=\"top\">VIX</th>\n",
       "      <th>0</th>\n",
       "      <td>-0.010585</td>\n",
       "    </tr>\n",
       "    <tr>\n",
       "      <th>1</th>\n",
       "      <td>0.002652</td>\n",
       "    </tr>\n",
       "    <tr>\n",
       "      <th>2</th>\n",
       "      <td>-0.012670</td>\n",
       "    </tr>\n",
       "    <tr>\n",
       "      <th>3</th>\n",
       "      <td>0.008918</td>\n",
       "    </tr>\n",
       "    <tr>\n",
       "      <th>4</th>\n",
       "      <td>0.011703</td>\n",
       "    </tr>\n",
       "  </tbody>\n",
       "</table>\n",
       "</div>"
      ],
      "text/plain": [
       "                                gains_factor_algo\n",
       "chain sample gains_factor algo                   \n",
       "0     0      VIX          0             -0.010585\n",
       "                          1              0.002652\n",
       "                          2             -0.012670\n",
       "                          3              0.008918\n",
       "                          4              0.011703"
      ]
     },
     "execution_count": 24,
     "metadata": {},
     "output_type": "execute_result"
    }
   ],
   "source": [
    "fit.trace.gains_factor_algo.to_dataframe().head()"
   ]
  },
  {
   "cell_type": "code",
   "execution_count": 27,
   "metadata": {},
   "outputs": [
    {
     "data": {
      "text/plain": [
       "<seaborn.axisgrid.FacetGrid at 0x1263805c0>"
      ]
     },
     "execution_count": 27,
     "metadata": {},
     "output_type": "execute_result"
    },
    {
     "data": {
      "image/png": "[encoded data removed]",
      "text/plain": [
       "<Figure size 357.25x288 with 1 Axes>"
      ]
     },
     "metadata": {},
     "output_type": "display_data"
    }
   ],
   "source": [
    "# Plot the posterior of the influence on the local non-annualized SR\n",
    "sns.factorplot(x='gains_factor_algo', y='algo', hue='gains_factor',\n",
    "               data=fit.trace.gains_factor_algo.to_dataframe().reset_index(),\n",
    "               kind='violin', orient='h')"
   ]
  },
  {
   "cell_type": "code",
   "execution_count": 28,
   "metadata": {},
   "outputs": [
    {
     "data": {
      "text/plain": [
       "algo\n",
       "0    0.597\n",
       "1    0.627\n",
       "2    0.773\n",
       "3    0.607\n",
       "4    0.538\n",
       "5    0.567\n",
       "6    0.227\n",
       "7    0.276\n",
       "8    0.538\n",
       "9    0.479\n",
       "dtype: float64"
      ]
     },
     "execution_count": 28,
     "metadata": {},
     "output_type": "execute_result"
    }
   ],
   "source": [
    "# What is the probability that predictor 1 is better than predictor 2 for a particular algo?\n",
    "vix = fit.trace.gains_factor_algo.sel(gains_factor='VIX')\n",
    "hmm = fit.trace.gains_factor_algo.sel(gains_factor='HMM')\n",
    "(vix > hmm).mean(dim=('sample', 'chain')).to_pandas()"
   ]
  },
  {
   "cell_type": "code",
   "execution_count": null,
   "metadata": {},
   "outputs": [],
   "source": []
  }
 ],
 "metadata": {
  "kernelspec": {
   "display_name": "Python [conda env:anaconda3]",
   "language": "python",
   "name": "conda-env-anaconda3-py"
  },
  "language_info": {
   "codemirror_mode": {
    "name": "ipython",
    "version": 3
   },
   "file_extension": ".py",
   "mimetype": "text/x-python",
   "name": "python",
   "nbconvert_exporter": "python",
   "pygments_lexer": "ipython3",
   "version": "3.6.5"
  }
 },
 "nbformat": 4,
 "nbformat_minor": 2
}
